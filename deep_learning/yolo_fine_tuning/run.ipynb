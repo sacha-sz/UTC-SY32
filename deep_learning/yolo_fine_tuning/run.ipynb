{
 "cells": [
  {
   "cell_type": "code",
   "execution_count": 2,
   "metadata": {},
   "outputs": [],
   "source": [
    "# import Image\n",
    "from PIL import Image\n",
    "from ultralytics import YOLO"
   ]
  },
  {
   "cell_type": "code",
   "execution_count": 5,
   "metadata": {},
   "outputs": [
    {
     "name": "stdout",
     "output_type": "stream",
     "text": [
      "\n",
      "image 1/1 c:\\Users\\marti\\OneDrive\\Documents\\GI04\\SY32\\UTC-SY32\\deep_learning\\yolo_fine_tuning\\..\\..\\dataset\\test\\0063.jpg: 640x384 1 obligation, 279.5ms\n",
      "Speed: 6.5ms preprocess, 279.5ms inference, 5.5ms postprocess per image at shape (1, 3, 640, 384)\n"
     ]
    }
   ],
   "source": [
    "def run_yolo(yolo, image_url, conf=0.25, iou=0.7):\n",
    "    results = yolo(image_url, conf=conf, iou=iou)\n",
    "    res = results[0].plot()[:, :, [2,1,0]]\n",
    "    return Image.fromarray(res)\n",
    "    \n",
    "yolo = YOLO('runs/detect/train8/weights/best.pt')\n",
    "\n",
    "image_url = '../../dataset/test/0063.jpg'\n",
    "img_label = yolo.predict(image_url)  "
   ]
  },
  {
   "cell_type": "code",
   "execution_count": 6,
   "metadata": {},
   "outputs": [],
   "source": [
    "img_label[0].show()"
   ]
  },
  {
   "cell_type": "code",
   "execution_count": 4,
   "metadata": {},
   "outputs": [
    {
     "data": {
      "text/plain": [
       "ultralytics.engine.results.Boxes object with attributes:\n",
       "\n",
       "cls: tensor([5., 0.])\n",
       "conf: tensor([0.8727, 0.4666])\n",
       "data: tensor([[2.5335e+02, 6.0246e+02, 2.8251e+02, 6.2434e+02, 8.7271e-01, 5.0000e+00],\n",
       "        [2.7660e+02, 3.4817e+02, 4.3984e+02, 5.6519e+02, 4.6661e-01, 0.0000e+00]])\n",
       "id: None\n",
       "is_track: False\n",
       "orig_shape: (640, 640)\n",
       "shape: torch.Size([2, 6])\n",
       "xywh: tensor([[267.9305, 613.4011,  29.1613,  21.8831],\n",
       "        [358.2197, 456.6803, 163.2445, 217.0123]])\n",
       "xywhn: tensor([[0.4186, 0.9584, 0.0456, 0.0342],\n",
       "        [0.5597, 0.7136, 0.2551, 0.3391]])\n",
       "xyxy: tensor([[253.3499, 602.4595, 282.5112, 624.3426],\n",
       "        [276.5974, 348.1742, 439.8419, 565.1865]])\n",
       "xyxyn: tensor([[0.3959, 0.9413, 0.4414, 0.9755],\n",
       "        [0.4322, 0.5440, 0.6873, 0.8831]])"
      ]
     },
     "execution_count": 4,
     "metadata": {},
     "output_type": "execute_result"
    }
   ],
   "source": [
    "img_label[0].boxes"
   ]
  },
  {
   "cell_type": "code",
   "execution_count": null,
   "metadata": {},
   "outputs": [],
   "source": []
  }
 ],
 "metadata": {
  "kernelspec": {
   "display_name": "sy32",
   "language": "python",
   "name": "python3"
  },
  "language_info": {
   "codemirror_mode": {
    "name": "ipython",
    "version": 3
   },
   "file_extension": ".py",
   "mimetype": "text/x-python",
   "name": "python",
   "nbconvert_exporter": "python",
   "pygments_lexer": "ipython3",
   "version": "3.11.8"
  }
 },
 "nbformat": 4,
 "nbformat_minor": 2
}
