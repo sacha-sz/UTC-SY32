{
 "cells": [
  {
   "cell_type": "code",
   "execution_count": null,
   "metadata": {},
   "outputs": [],
   "source": [
    "import cv2\n",
    "import os\n",
    "import matplotlib.pyplot as plt"
   ]
  },
  {
   "cell_type": "code",
   "execution_count": null,
   "metadata": {},
   "outputs": [],
   "source": [
    "correspondance = {\n",
    "    \"frouge\": 0,\n",
    "    \"forange\": 1,\n",
    "    \"fvert\": 2,\n",
    "    \"stop\": 3,\n",
    "    \"ceder\": 4,\n",
    "    \"interdiction\": 5,\n",
    "    \"danger\": 6,\n",
    "    \"obligation\": 7\n",
    "}"
   ]
  },
  {
   "cell_type": "code",
   "execution_count": null,
   "metadata": {},
   "outputs": [],
   "source": [
    "train_img_dir = \"../../dataset/train/images\"\n",
    "train_lab_dir = \"../../dataset/train/labels\"\n",
    "\n",
    "val_img_dir = \"../../dataset/val/images\"\n",
    "val_lab_dir = \"../../dataset/val/labels\"\n",
    "\n",
    "data_dir = \"data\"\n",
    "data_train_file = \"data/train.txt\"\n",
    "data_val_file = \"data/val.txt\"\n",
    "\n",
    "train_img_dir_dest = \"data/train/images\"\n",
    "train_lab_dir_dest = \"data/train/labels\"\n",
    "\n",
    "val_img_dir_dest = \"data/val/images\"\n",
    "val_lab_dir_dest = \"data/val/labels\""
   ]
  },
  {
   "cell_type": "code",
   "execution_count": null,
   "metadata": {},
   "outputs": [],
   "source": [
    "# si repertoire n'existe pas, on le cree\n",
    "if not os.path.exists(train_img_dir_dest):\n",
    "    os.makedirs(train_img_dir_dest)\n",
    "\n",
    "if not os.path.exists(train_lab_dir_dest):\n",
    "    os.makedirs(train_lab_dir_dest)\n",
    "\n",
    "if not os.path.exists(val_img_dir_dest):\n",
    "    os.makedirs(val_img_dir_dest)\n",
    "\n",
    "if not os.path.exists(val_lab_dir_dest):\n",
    "    os.makedirs(val_lab_dir_dest)\n"
   ]
  },
  {
   "cell_type": "code",
   "execution_count": null,
   "metadata": {},
   "outputs": [],
   "source": [
    "img_size = 640"
   ]
  },
  {
   "cell_type": "code",
   "execution_count": null,
   "metadata": {},
   "outputs": [],
   "source": [
    "def create(img_dir, lab_dir, img_dir_dest, lab_dir_dest, data_file):\n",
    "\n",
    "    # file = open(data_file, 'w')\n",
    "    for img in os.listdir(img_dir):\n",
    "        img_path = os.path.join(img_dir, img)\n",
    "        lab_path = os.path.join(lab_dir, img[:-4] + \".csv\")\n",
    "\n",
    "        img_dest_path = os.path.join(img_dir_dest, img)\n",
    "        lab_dest_path = os.path.join(lab_dir_dest, img[:-4] + \".txt\")\n",
    "\n",
    "        # redimensionnement de l'image\n",
    "        img = cv2.imread(img_path)\n",
    "        h, w, _ = img.shape\n",
    "        img = cv2.resize(img, (img_size, img_size))\n",
    "\n",
    "        # enregistrement de l'image\n",
    "        cv2.imwrite(img_dest_path, img)\n",
    "\n",
    "        # ecriture du chemin de l'image dans le fichier data\n",
    "        # file.write(f\"{img_dest_path} {lab_dest_path}\\n\")\n",
    "\n",
    "        with open(lab_path, 'r') as f:\n",
    "            lines = f.readlines()\n",
    "            if \"\\n\" in lines: lines.remove(\"\\n\")\n",
    "\n",
    "        for line in lines:\n",
    "            x1, y1, x2, y2 = map(int, line.split(\",\")[:4])\n",
    "            type_panneau = line.split(\",\")[4].strip()\n",
    "            if type_panneau == 'ff':\n",
    "                continue\n",
    "\n",
    "            # calcul des coordonnees du centre\n",
    "            x_center = (x1 + x2) / 2\n",
    "            y_center = (y1 + y2) / 2\n",
    "            width = x2 - x1\n",
    "            height = y2 - y1\n",
    "\n",
    "            # leur affecter leur changement induit du resize\n",
    "            x_center = int(round(x_center / w * img_size))/img_size\n",
    "            y_center = int(round(y_center / h * img_size))/img_size\n",
    "            width = int(round(width / w * img_size))/img_size\n",
    "            height = int(round(height / h * img_size))/img_size\n",
    "\n",
    "            # afficher la box de l'image avec les labels modifiés\n",
    "            # box = cv2.rectangle(img, (int(x_center - width / 2), int(y_center - height / 2)), (int(x_center + width / 2), int(y_center + height / 2)), (0, 255, 0), 2)\n",
    "            # plt.imshow(cv2.cvtColor(box, cv2.COLOR_BGR2RGB))\n",
    "\n",
    "            # enregistrement dans le fichier\n",
    "            with open(lab_dest_path, 'a') as f:\n",
    "                f.write(f\"{correspondance[type_panneau]} {x_center} {y_center} {width} {height}\\n\")\n",
    "\n",
    "    # file.close()\n",
    "            "
   ]
  },
  {
   "cell_type": "code",
   "execution_count": null,
   "metadata": {},
   "outputs": [],
   "source": [
    "# creation des fichiers pour le train\n",
    "create(train_img_dir, train_lab_dir, train_img_dir_dest, train_lab_dir_dest, data_train_file)\n",
    "\n",
    "# creation des fichiers pour le val\n",
    "create(val_img_dir, val_lab_dir, val_img_dir_dest, val_lab_dir_dest, data_val_file)"
   ]
  }
 ],
 "metadata": {
  "kernelspec": {
   "display_name": "sy32",
   "language": "python",
   "name": "python3"
  },
  "language_info": {
   "codemirror_mode": {
    "name": "ipython",
    "version": 3
   },
   "file_extension": ".py",
   "mimetype": "text/x-python",
   "name": "python",
   "nbconvert_exporter": "python",
   "pygments_lexer": "ipython3",
   "version": "3.11.8"
  }
 },
 "nbformat": 4,
 "nbformat_minor": 2
}
